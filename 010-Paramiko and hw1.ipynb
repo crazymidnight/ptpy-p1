{
 "cells": [
  {
   "cell_type": "markdown",
   "metadata": {},
   "source": [
    "# 1. Paramiko\n",
    "## 1.1 Установка"
   ]
  },
  {
   "cell_type": "code",
   "execution_count": 2,
   "metadata": {},
   "outputs": [
    {
     "name": "stdout",
     "output_type": "stream",
     "text": [
      "Requirement already satisfied: paramiko in /home/singer/envs/ptpy/lib/python3.5/site-packages (2.4.1)\n",
      "Requirement already satisfied: pynacl>=1.0.1 in /home/singer/envs/ptpy/lib/python3.5/site-packages (from paramiko) (1.2.1)\n",
      "Requirement already satisfied: bcrypt>=3.1.3 in /home/singer/envs/ptpy/lib/python3.5/site-packages (from paramiko) (3.1.4)\n",
      "Requirement already satisfied: cryptography>=1.5 in /home/singer/envs/ptpy/lib/python3.5/site-packages (from paramiko) (2.2.2)\n",
      "Requirement already satisfied: pyasn1>=0.1.7 in /home/singer/envs/ptpy/lib/python3.5/site-packages (from paramiko) (0.4.2)\n",
      "Requirement already satisfied: six in /home/singer/envs/ptpy/lib/python3.5/site-packages (from pynacl>=1.0.1->paramiko) (1.11.0)\n",
      "Requirement already satisfied: cffi>=1.4.1 in /home/singer/envs/ptpy/lib/python3.5/site-packages (from pynacl>=1.0.1->paramiko) (1.11.5)\n",
      "Requirement already satisfied: idna>=2.1 in /home/singer/envs/ptpy/lib/python3.5/site-packages (from cryptography>=1.5->paramiko) (2.6)\n",
      "Requirement already satisfied: asn1crypto>=0.21.0 in /home/singer/envs/ptpy/lib/python3.5/site-packages (from cryptography>=1.5->paramiko) (0.24.0)\n",
      "Requirement already satisfied: pycparser in /home/singer/envs/ptpy/lib/python3.5/site-packages (from cffi>=1.4.1->pynacl>=1.0.1->paramiko) (2.18)\n"
     ]
    }
   ],
   "source": [
    "!pip install paramiko # conda install paramiko"
   ]
  },
  {
   "cell_type": "markdown",
   "metadata": {},
   "source": [
    "## 1.2 Базовое ssh соединение"
   ]
  },
  {
   "cell_type": "code",
   "execution_count": 3,
   "metadata": {},
   "outputs": [],
   "source": [
    "import paramiko\n",
    "client = paramiko.SSHClient()"
   ]
  },
  {
   "cell_type": "code",
   "execution_count": 5,
   "metadata": {},
   "outputs": [],
   "source": [
    "client.set_missing_host_key_policy(paramiko.AutoAddPolicy())\n",
    "# client.load_host_keys(filename='./konwn_hosts')"
   ]
  },
  {
   "cell_type": "code",
   "execution_count": 6,
   "metadata": {},
   "outputs": [],
   "source": [
    "client.connect(hostname='localhost',username='root',password='pwd',port=22022)"
   ]
  },
  {
   "cell_type": "code",
   "execution_count": 7,
   "metadata": {},
   "outputs": [],
   "source": [
    "stdin, stdout, stderr = client.exec_command('apt list --installed')"
   ]
  },
  {
   "cell_type": "code",
   "execution_count": 8,
   "metadata": {},
   "outputs": [],
   "source": [
    "results = stdout.read()"
   ]
  },
  {
   "cell_type": "code",
   "execution_count": 10,
   "metadata": {},
   "outputs": [
    {
     "data": {
      "text/plain": [
       "b'Listing...\\nadduser/xenial,now 3.113+nmu3ubuntu4 all [installed]\\napt/xenial-updates,now 1.2.26 amd64 '"
      ]
     },
     "execution_count": 10,
     "metadata": {},
     "output_type": "execute_result"
    }
   ],
   "source": [
    "results[:100]"
   ]
  },
  {
   "cell_type": "code",
   "execution_count": 11,
   "metadata": {},
   "outputs": [],
   "source": [
    "client.close()"
   ]
  },
  {
   "cell_type": "markdown",
   "metadata": {},
   "source": [
    "### Первая задача на дом"
   ]
  },
  {
   "cell_type": "markdown",
   "metadata": {},
   "source": [
    "* Реализовать функцию get_transport(transport_name, host, port, login, passowrd) которая возвращаетет instance транспорта\n",
    "Выбрасывает исключение UnknownTransport - в случае если трансопрта не существует.\n",
    "\n",
    "* Реализовать класс тнаспрота SSH\n",
    "\n",
    "exec(command) выполняет комманду на целвевом хосте в виде юникод строки\n",
    "get_file(path) возвращает содержимое файла\n",
    "\n",
    "Выбрасывает исключения TransportError в случае остутвия комманды файла\n",
    "TransportConnetionError - в случае ошибок подключения\n",
    "\n",
    "* Написать тесты. Я бы использовал pytest"
   ]
  },
  {
   "cell_type": "code",
   "execution_count": null,
   "metadata": {},
   "outputs": [],
   "source": []
  }
 ],
 "metadata": {
  "kernelspec": {
   "display_name": "Python 3",
   "language": "python",
   "name": "python3"
  },
  "language_info": {
   "codemirror_mode": {
    "name": "ipython",
    "version": 3
   },
   "file_extension": ".py",
   "mimetype": "text/x-python",
   "name": "python",
   "nbconvert_exporter": "python",
   "pygments_lexer": "ipython3",
   "version": "3.5.2"
  }
 },
 "nbformat": 4,
 "nbformat_minor": 2
}
